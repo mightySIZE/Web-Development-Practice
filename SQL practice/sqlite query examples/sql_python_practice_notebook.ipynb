{
 "cells": [
  {
   "cell_type": "code",
   "execution_count": 1,
   "metadata": {},
   "outputs": [
    {
     "data": {
      "text/plain": [
       "<sqlite3.Cursor at 0x105d1dbc0>"
      ]
     },
     "execution_count": 1,
     "metadata": {},
     "output_type": "execute_result"
    }
   ],
   "source": [
    "import sqlite3\n",
    "\n",
    "# Connect to database\n",
    "conn = sqlite3.connect('students.sqlite3')\n",
    "cursor = conn.cursor()\n",
    "\n",
    "# Create table\n",
    "create_table_query = '''CREATE TABLE IF NOT EXISTS students (\n",
    "                            id INTEGER PRIMARY KEY AUTOINCREMENT,\n",
    "                            name TEXT,\n",
    "                            age INTEGER(3),\n",
    "                            gender TEXT,\n",
    "                            major TEXT\n",
    "                        );'''\n",
    "cursor.execute(create_table_query)"
   ]
  },
  {
   "cell_type": "code",
   "execution_count": 2,
   "metadata": {},
   "outputs": [
    {
     "data": {
      "text/plain": [
       "<sqlite3.Cursor at 0x105d1dbc0>"
      ]
     },
     "execution_count": 2,
     "metadata": {},
     "output_type": "execute_result"
    }
   ],
   "source": [
    "# Insert data\n",
    "insert_query = '''INSERT INTO students (name, age, gender, major) VALUES ('Mohamed', 25, 'M', 'Computer Science');'''\n",
    "cursor.execute(insert_query)"
   ]
  },
  {
   "cell_type": "code",
   "execution_count": 3,
   "metadata": {},
   "outputs": [
    {
     "data": {
      "text/plain": [
       "<sqlite3.Cursor at 0x105d1dbc0>"
      ]
     },
     "execution_count": 3,
     "metadata": {},
     "output_type": "execute_result"
    }
   ],
   "source": [
    "# Inserting multiple rows at once\n",
    "students = [('Alice', 20, 'F', 'Math'),\n",
    "            ('Bob', 22, 'M', 'English'),\n",
    "            ('Charlie', 19, 'M', 'History')]\n",
    "insert_query_2 = '''INSERT INTO students (name, age, gender, major) VALUES (?,?,?,?);'''\n",
    "cursor.executemany(insert_query_2, students)"
   ]
  },
  {
   "cell_type": "code",
   "execution_count": 4,
   "metadata": {},
   "outputs": [
    {
     "data": {
      "text/plain": [
       "<sqlite3.Cursor at 0x105d1dbc0>"
      ]
     },
     "execution_count": 4,
     "metadata": {},
     "output_type": "execute_result"
    }
   ],
   "source": [
    "# Updating a single row\n",
    "update_query = '''UPDATE students SET major = 'Physics' WHERE name = 'Alice';'''\n",
    "cursor.execute(update_query)"
   ]
  },
  {
   "cell_type": "code",
   "execution_count": 5,
   "metadata": {},
   "outputs": [
    {
     "data": {
      "text/plain": [
       "<sqlite3.Cursor at 0x105d1dbc0>"
      ]
     },
     "execution_count": 5,
     "metadata": {},
     "output_type": "execute_result"
    }
   ],
   "source": [
    "# Deleting a single row\n",
    "delete_query = '''DELETE FROM students WHERE name = 'Charlie';'''\n",
    "cursor.execute(delete_query)\n"
   ]
  },
  {
   "cell_type": "code",
   "execution_count": 18,
   "metadata": {},
   "outputs": [
    {
     "name": "stdout",
     "output_type": "stream",
     "text": [
      "[(1, 'Mohamed', 25, 'M', 'Computer Science'), (3, 'Bob', 22, 'M', 'English'), (6, 'Bob', 22, 'M', 'English')]\n"
     ]
    }
   ],
   "source": [
    "# Querying a table with conditions\n",
    "query = '''SELECT * FROM students WHERE age >= 20 AND gender = 'M';'''\n",
    "cursor.execute(query)\n",
    "print(cursor.fetchall())"
   ]
  },
  {
   "cell_type": "code",
   "execution_count": 6,
   "metadata": {},
   "outputs": [
    {
     "name": "stdout",
     "output_type": "stream",
     "text": [
      "[]\n"
     ]
    }
   ],
   "source": [
    "# Querying multiple tables with JOIN\n",
    "# Create a new table\n",
    "create_table_query = '''CREATE TABLE IF NOT EXISTS courses (\n",
    "                            id INTEGER PRIMARY KEY AUTOINCREMENT,\n",
    "                            name TEXT,\n",
    "                            credits INTEGER,\n",
    "                            instructor TEXT\n",
    "                        );'''\n",
    "cursor.execute(create_table_query)\n",
    "\n",
    "# Insert data into the courses table\n",
    "courses = [('Math 101', 3, 'Dr. Smith'),\n",
    "            ('English 201', 4, 'Dr. Johnson'),\n",
    "            ('History 301', 3, 'Dr. Lee')]\n",
    "insert_query = '''INSERT INTO courses (name, credits, instructor) VALUES (?,?,?);'''\n",
    "cursor.executemany(insert_query, courses)\n",
    "\n",
    "# Join the students and courses tables on the major and name columns\n",
    "query = '''SELECT students.name, students.major, courses.name, courses.instructor FROM students\n",
    "           JOIN courses ON students.major = courses.name\n",
    "           WHERE students.name = 'Bob';'''\n",
    "cursor.execute(query)\n",
    "print(cursor.fetchall())"
   ]
  },
  {
   "cell_type": "code",
   "execution_count": 7,
   "metadata": {},
   "outputs": [],
   "source": [
    "# Save (commit) the changes\n",
    "conn.commit()"
   ]
  },
  {
   "cell_type": "code",
   "execution_count": 8,
   "metadata": {},
   "outputs": [
    {
     "name": "stdout",
     "output_type": "stream",
     "text": [
      "[(1, 'Mohamed', 25, 'M', 'Computer Science'), (2, 'Alice', 20, 'F', 'Physics'), (3, 'Bob', 22, 'M', 'English')]\n"
     ]
    }
   ],
   "source": [
    "# Fetch data\n",
    "cursor.execute(\"SELECT DISTINCT * FROM students; \")\n",
    "print(cursor.fetchall())"
   ]
  },
  {
   "cell_type": "code",
   "execution_count": 9,
   "metadata": {},
   "outputs": [],
   "source": [
    "# Close the connection\n",
    "conn.close()"
   ]
  }
 ],
 "metadata": {
  "kernelspec": {
   "display_name": "Python 3",
   "language": "python",
   "name": "python3"
  },
  "language_info": {
   "codemirror_mode": {
    "name": "ipython",
    "version": 3
   },
   "file_extension": ".py",
   "mimetype": "text/x-python",
   "name": "python",
   "nbconvert_exporter": "python",
   "pygments_lexer": "ipython3",
   "version": "3.10.7"
  },
  "orig_nbformat": 4
 },
 "nbformat": 4,
 "nbformat_minor": 2
}
